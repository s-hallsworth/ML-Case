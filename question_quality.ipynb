{
 "cells": [
  {
   "cell_type": "markdown",
   "metadata": {},
   "source": [
    "# Prediciting the Quality of Stackoverflow Questions"
   ]
  },
  {
   "cell_type": "markdown",
   "metadata": {},
   "source": [
    "## 1. Import Data"
   ]
  },
  {
   "cell_type": "code",
   "execution_count": null,
   "metadata": {},
   "outputs": [],
   "source": [
    "# Libraries\n",
    "import pandas as pd\n",
    "import numpy as np\n",
    "import matplotlib.pyplot as plt\n",
    "import seaborn as sns\n",
    "import os"
   ]
  },
  {
   "cell_type": "code",
   "execution_count": null,
   "metadata": {},
   "outputs": [],
   "source": [
    "# Define Data Path\n",
    "DIR = os.getcwd() # current working directory\n",
    "train_path = \"stack_overflow_questions_train.csv\"\n",
    "val_path  = \"stack_overflow_questions_valid.csv\""
   ]
  },
  {
   "cell_type": "code",
   "execution_count": null,
   "metadata": {},
   "outputs": [],
   "source": [
    "# Load Training Data\n",
    "TRAIN_PATH = os.path.join(DIR,\"data\",train_path)\n",
    "train_df = pd.read_csv(TRAIN_PATH)\n",
    "\n",
    "train_df.head()"
   ]
  },
  {
   "cell_type": "code",
   "execution_count": null,
   "metadata": {},
   "outputs": [],
   "source": [
    "# Load Test Data\n",
    "VAL_PATH = os.path.join(DIR,\"data\",val_path)\n",
    "val_df = pd.read_csv(VAL_PATH)\n",
    "\n",
    "val_df.head()"
   ]
  },
  {
   "cell_type": "code",
   "execution_count": null,
   "metadata": {},
   "outputs": [],
   "source": [
    "# Print proportion of train and val data\n",
    "total_data = (train_df.shape[0]+val_df.shape[0])\n",
    "print(f\" Train Data: Count = {train_df.shape[0]}   Percentage of Data = {round(train_df.shape[0]*100/ total_data,2)}\")\n",
    "print(f\" Train Data: Count = {val_df.shape[0]}   Percentage of Data = {round(val_df.shape[0]* 100/ total_data, 2)}\")"
   ]
  },
  {
   "cell_type": "code",
   "execution_count": null,
   "metadata": {},
   "outputs": [],
   "source": [
    "# Create a combined data frame of train and validation data\n",
    "combined_df = pd.concat([train_df, val_df])\n",
    "\n",
    "# Check that data is stacked along rows dimension\n",
    "assert combined_df.shape[0] == total_data "
   ]
  },
  {
   "cell_type": "markdown",
   "metadata": {},
   "source": [
    "## 2. Data Exploration & Preparation"
   ]
  },
  {
   "cell_type": "markdown",
   "metadata": {},
   "source": [
    "* Target Distribution"
   ]
  },
  {
   "cell_type": "code",
   "execution_count": null,
   "metadata": {},
   "outputs": [],
   "source": [
    "fig, axs = plt.subplots(1,2, figsize=(9, 2))\n",
    "train_df[\"Y\"].hist(ax=axs[0])\n",
    "axs[0].set_title(f\"Train Data Question Quality \")\n",
    "axs[0].set_ylabel(\"Count\")\n",
    "axs[0].set_xlabel(\"Quality Label\")\n",
    "\n",
    "val_df[\"Y\"].hist(ax=axs[1])\n",
    "axs[1].set_title(f\"Val. Data Question Quality \")\n",
    "axs[1].set_ylabel(\"Count\")\n",
    "axs[1].set_xlabel(\"Quality Label\")"
   ]
  },
  {
   "cell_type": "markdown",
   "metadata": {},
   "source": [
    "* Check for Nulls"
   ]
  },
  {
   "cell_type": "code",
   "execution_count": null,
   "metadata": {},
   "outputs": [],
   "source": [
    "# Check data types and nulls\n",
    "combined_df.info()"
   ]
  },
  {
   "cell_type": "markdown",
   "metadata": {},
   "source": [
    "* Convert Body text from XML to string"
   ]
  },
  {
   "cell_type": "code",
   "execution_count": null,
   "metadata": {},
   "outputs": [],
   "source": [
    "from bs4 import BeautifulSoup\n",
    "import re\n",
    "\n",
    "# Function to remove XML formatting\n",
    "def convert_text(text):\n",
    "    text = BeautifulSoup(text, \"xml\").get_text()                # parse and get text      \n",
    "    text = text.replace('\\r', ' ').replace('\\n', ' ').strip()   # remove formatting\n",
    "    return text\n",
    "\n",
    "# Count paragraphs and change from xml format\n",
    "dfs = [train_df, val_df]\n",
    "for df in dfs:\n",
    "    # Count paragraphs\n",
    "    df['Paragraphs'] = df['Body'].apply(lambda x: len(re.findall(r'</p>\\n', x)))\n",
    "\n",
    "    # Apply the convert_text function to the 'Body' column\n",
    "    df['Body'] = df['Body'].apply(convert_text)\n",
    "\n",
    "# View converted text\n",
    "train_df.head()"
   ]
  },
  {
   "cell_type": "markdown",
   "metadata": {},
   "source": [
    "* Clean & Reformat Features\n",
    "  "
   ]
  },
  {
   "cell_type": "code",
   "execution_count": null,
   "metadata": {},
   "outputs": [],
   "source": [
    "import re\n",
    "import cleantext\n",
    "from bs4 import BeautifulSoup\n",
    "import contractions\n",
    "import nltk\n",
    "from nltk.tokenize import word_tokenize\n",
    "from nltk.corpus import stopwords\n",
    "nltk.download('stopwords')\n",
    "nltk.download('punkt_tab')\n",
    "\n",
    "# Clean and reformat data\n",
    "stop_words = set(stopwords.words('english')) # Define stop words\n",
    "\n",
    "# For both the test and traing data\n",
    "for df in dfs:\n",
    "    \n",
    "    # Change Creation Date to Year\n",
    "    df[\"CreationDate\"] = pd.to_datetime(df[\"CreationDate\"]).dt.year\n",
    "    \n",
    "    # Remove id columns\n",
    "    df.drop([\"Id\"], axis=1,inplace=True) \n",
    "\n",
    "    # Handle user mentions\n",
    "    count_user_mentions = combined_df[\"Body\"].loc[combined_df[\"Body\"].str.contains(r'@\\w+')].shape[0]\n",
    "    df[\"Body\"] = df[\"Body\"].apply(lambda x: re.sub(r'@\\w+', '_USER_', x))   # Replace unique user names with @USER\n",
    "    \n",
    "    # Replace tag with count of the number of tags\n",
    "    df[\"Tags\"] = df[\"Tags\"].apply(lambda x: len(re.findall(r'<[^>]+>', x)))\n",
    "    \n",
    "    # Clean text columns\n",
    "    for col in [\"Title\", \"Body\"]:\n",
    "        # Remove contractions\n",
    "        df[col] = df[col].apply(lambda x:  contractions.fix(x))\n",
    "\n",
    "        # Clean Words\n",
    "        df[col] = df[col].apply(lambda x: cleantext.clean( x,\n",
    "            fix_unicode=True,               # fix various unicode errors\n",
    "            to_ascii=True,                  # transliterate to closest ASCII representation\n",
    "            lower=True,                     # lowercase text\n",
    "            no_line_breaks=True,            # fully strip line breaks as opposed to only normalizing them\n",
    "            no_urls=True,                   # replace all URLs with a special token\n",
    "            no_emails=True,                 # replace all email addresses with a special token\n",
    "            no_phone_numbers=True,          # replace all phone numbers with a special token\n",
    "            no_numbers=True,                # replace all numbers with a special token\n",
    "            no_digits=False,                # replace all digits with a special token\n",
    "            no_currency_symbols=True,       # replace all currency symbols with a special token\n",
    "            no_punct=True,                  # remove punctuations\n",
    "            no_emoji=True,                  # remove emjois\n",
    "            replace_with_punct=\" \",          # instead of removing punctuations you may replace them\n",
    "            replace_with_url=\"_URL_\",\n",
    "            replace_with_email=\"_EMAIL_\",\n",
    "            replace_with_phone_number=\"_PHONE_\",\n",
    "            replace_with_number=\"_NUMBER_\",\n",
    "            replace_with_currency_symbol=\"_CUR_\",\n",
    "            lang=\"en\"                       # set to english handling\n",
    "        ))\n",
    "        \n",
    "        # Remove double spaces\n",
    "        df[col] = df[col].apply(lambda x: re.sub('  ', ' ', x))\n",
    "        \n",
    "        # Remove stop words + word tokenization\n",
    "        df[col] = df[col].apply(lambda x:  [w for w in  word_tokenize(x) if w not in stop_words])\n",
    "    "
   ]
  },
  {
   "cell_type": "code",
   "execution_count": null,
   "metadata": {},
   "outputs": [],
   "source": [
    "train_df.head()"
   ]
  },
  {
   "cell_type": "code",
   "execution_count": null,
   "metadata": {},
   "outputs": [],
   "source": [
    "# Handle spelling mistakes\n",
    "# from textblob import TextBlob\n",
    "\n",
    "# # For both the test and traing data\n",
    "# for df in dfs:\n",
    "#     for col in [\"Title\", \"Body\"]:\n",
    "#         df[col] = df[col].apply(lambda x:  ''.join(TextBlob(x).correct()))"
   ]
  },
  {
   "cell_type": "markdown",
   "metadata": {},
   "source": [
    "* Lemmatization"
   ]
  },
  {
   "cell_type": "code",
   "execution_count": null,
   "metadata": {},
   "outputs": [],
   "source": [
    "import spacy\n",
    "nlp = spacy.load('en_core_web_sm')\n",
    "\n",
    "for df in dfs:\n",
    "    for col in [\"Title\", \"Body\"]:\n",
    "        df[col] = df[col].apply(lambda x:  \" \".join([token.lemma_ for token in nlp(str(x))]))\n",
    "        \n",
    "train_df.head()"
   ]
  },
  {
   "cell_type": "markdown",
   "metadata": {},
   "source": [
    "* Count Number of unique Words in Body"
   ]
  },
  {
   "cell_type": "code",
   "execution_count": null,
   "metadata": {},
   "outputs": [],
   "source": [
    "combined_df = pd.concat([train_df, val_df])\n",
    "\n",
    "for col in [\"Title\", \"Body\"]:\n",
    "    lemmatized_tokens = []\n",
    "    for doc in combined_df[col]:\n",
    "        doc = re.sub(r\"[',\\[\\]]\", \"\", doc)\n",
    "        lemmatized_tokens.extend(doc.split())\n",
    "\n",
    "    # Get unique lemmas\n",
    "    unique_lemmas = lemmatized_tokens\n",
    "    vocabulary_size = len(unique_lemmas)\n",
    "    print(f\"{col} - vocabulary size is {vocabulary_size}\")"
   ]
  },
  {
   "cell_type": "markdown",
   "metadata": {},
   "source": [
    "* Title: Get count of overlapping words with Body"
   ]
  },
  {
   "cell_type": "code",
   "execution_count": null,
   "metadata": {},
   "outputs": [],
   "source": [
    "for df in dfs:\n",
    "    # find the number of intersecting words in Title and Body\n",
    "    df[\"Title_Count\"] = df.apply(lambda row: len(set( re.sub(r\"[',\\[\\]]\", \"\", row[\"Title\"]).split()) & set(re.sub(r\"[',\\[\\]]\", \"\", row[\"Body\"]).split())), axis=1)\n",
    "    \n",
    "train_df.head()"
   ]
  },
  {
   "cell_type": "markdown",
   "metadata": {},
   "source": [
    "* Body: Get subjectivity and polarity"
   ]
  },
  {
   "cell_type": "code",
   "execution_count": null,
   "metadata": {},
   "outputs": [],
   "source": [
    "from textblob import TextBlob\n",
    "\n",
    "# Function to get subjectivity and polarity of the text\n",
    "def get_sentiment(text):\n",
    "        blob = TextBlob(text)\n",
    "        polarity = blob.sentiment.polarity\n",
    "        subjectivity = blob.sentiment.subjectivity\n",
    "        return pd.Series([polarity, subjectivity])\n",
    "\n",
    "# Add subjectivity and polarity of \"Body\" to dataframe \n",
    "for df in dfs:\n",
    "    df[[\"Polarity\", \"Subjectivity\"]] = df[\"Body\"].apply(lambda x: get_sentiment(x))\n",
    "\n"
   ]
  },
  {
   "cell_type": "code",
   "execution_count": null,
   "metadata": {},
   "outputs": [],
   "source": [
    "# View Polarity and Subjectivity\n",
    "sns.scatterplot(data=train_df, x=\"Polarity\", y=\"Subjectivity\", hue=\"Y\")\n",
    "plt.title(\"Subjectivity vs Polarity of Body coloured by Question Quality\")\n",
    "plt.xlabel(\"Polarity\")\n",
    "plt.ylabel(\"Subjectivity\")\n",
    "plt.legend()\n",
    "plt.show()\n"
   ]
  },
  {
   "cell_type": "markdown",
   "metadata": {},
   "source": [
    "* Body: Embed with CountVectorizer (computationally efficient)\n",
    "\n",
    "    The vocabulary was very large which would be time consuming even with the cmputationally efficient embedder so this step was omitted"
   ]
  },
  {
   "cell_type": "markdown",
   "metadata": {},
   "source": [
    "* Generate Word Cloud"
   ]
  },
  {
   "cell_type": "code",
   "execution_count": null,
   "metadata": {},
   "outputs": [],
   "source": [
    "from wordcloud import WordCloud\n",
    "\n",
    "# Generate word cloud of  \"Body\"\n",
    "cloud = WordCloud() \n",
    "cloud = cloud.generate(\" \".join(train_df[\"Body\"].astype(str).tolist()))\n",
    "\n",
    "# Plot word cloud\n",
    "plt.imshow(cloud)\n",
    "plt.axis('off')  \n",
    "plt.show()"
   ]
  },
  {
   "cell_type": "markdown",
   "metadata": {},
   "source": [
    "* View histogram of data"
   ]
  },
  {
   "cell_type": "code",
   "execution_count": null,
   "metadata": {},
   "outputs": [],
   "source": [
    "train_df.hist()"
   ]
  },
  {
   "cell_type": "markdown",
   "metadata": {},
   "source": [
    "*  Add Word Count Var"
   ]
  },
  {
   "cell_type": "code",
   "execution_count": null,
   "metadata": {},
   "outputs": [],
   "source": [
    "for df in dfs:\n",
    "    df[\"Body_Count\"] = df[\"Body\"].apply(lambda x: len(set(re.sub(r\"[',\\[\\]]\", \"\", x).split())))\n",
    "    \n",
    "train_df[\"Body_Count\"].head()"
   ]
  },
  {
   "cell_type": "markdown",
   "metadata": {},
   "source": [
    "* View how features impact target"
   ]
  },
  {
   "cell_type": "code",
   "execution_count": null,
   "metadata": {},
   "outputs": [],
   "source": [
    "fig, axs = plt.subplots(1, 4, figsize=(17, 3))\n",
    "axs = axs.flatten()\n",
    "\n",
    "# Plot Edit\n",
    "sns.boxplot(data=train_df, x=\"Y\", y=\"Body_Count\", hue=\"Y\", ax=axs[0], medianprops=dict(color=\"red\", linewidth=1.5, linestyle='--'))\n",
    "axs[0].set_title(f\" Distribution of Word Counts in Target\")\n",
    "axs[0].set_ylabel(\"Number of Unique Words in Body\")\n",
    "axs[0].set_xlabel(\"Category (Y)\")\n",
    "\n",
    "# Plot Year\n",
    "sns.boxplot(data=train_df, x=\"Y\", y=\"CreationDate\", hue=\"Y\", ax=axs[1], medianprops=dict(color=\"red\", linewidth=1.5, linestyle='--'))\n",
    "axs[1].set_title(f\"Distribution of CreationDate in Target\")\n",
    "axs[1].set_ylabel(\"Creation Date\")\n",
    "axs[1].set_xlabel(\"Category (Y)\")\n",
    "\n",
    "# Plot Tags\n",
    "sns.boxplot(data=train_df, x=\"Y\", y=\"Tags\", hue=\"Y\", ax=axs[2], medianprops=dict(color=\"red\", linewidth=1.5,linestyle='--'))\n",
    "axs[2].set_title(f\"Distribution of Tags in Target\")\n",
    "axs[2].set_ylabel(\"Count Tags\")\n",
    "axs[2].set_xlabel(\"Category (Y)\")\n",
    "\n",
    "# Plot Paragraphs\n",
    "sns.boxplot(data=train_df, x=\"Y\", y=\"Paragraphs\", hue=\"Y\", ax=axs[3], medianprops=dict(color=\"red\", linewidth=1.5,linestyle='--'))\n",
    "axs[3].set_title(f\"Distribution of Paragraphs in Target\")\n",
    "axs[3].set_ylabel(\"Count Paragraphs\")\n",
    "axs[3].set_xlabel(\"Category (Y)\")\n",
    "\n",
    "plt.tight_layout()\n",
    "plt.show()"
   ]
  },
  {
   "cell_type": "markdown",
   "metadata": {},
   "source": [
    "## 2. Data Preparation"
   ]
  },
  {
   "cell_type": "code",
   "execution_count": null,
   "metadata": {},
   "outputs": [],
   "source": [
    "# Transform Tags and Paragraphs to make distribution more symmetric\n",
    "\n",
    "for df in dfs:\n",
    "    for col in [\"Tags\", \"Paragraphs\"]:\n",
    "        df[col] = np.log(df[col])"
   ]
  },
  {
   "cell_type": "code",
   "execution_count": null,
   "metadata": {},
   "outputs": [],
   "source": [
    "# View data\n",
    "train_df.describe()"
   ]
  },
  {
   "cell_type": "code",
   "execution_count": null,
   "metadata": {},
   "outputs": [],
   "source": [
    "# Data Standardization\n",
    "from sklearn.preprocessing import StandardScaler\n",
    "\n",
    "# define columns to scale\n",
    "scale_list = train_df.columns\n",
    "scale_list.remove(\"Y\", \"Body\", \"Title\")\n",
    "\n",
    "# Scale training data\n",
    "train_scaler = StandardScaler()\n",
    "train_df[scale_list] = train_scaler.fit_transform(train_df[scale_list])\n",
    "\n",
    "# Scale training data\n",
    "val_scaler = StandardScaler()\n",
    "val_df[scale_list] = val_scaler.fit_transform(val_df[scale_list])"
   ]
  },
  {
   "cell_type": "code",
   "execution_count": null,
   "metadata": {},
   "outputs": [],
   "source": [
    "# View data\n",
    "train_df.describe()"
   ]
  },
  {
   "cell_type": "markdown",
   "metadata": {},
   "source": [
    "  ## 2. Predictive Models"
   ]
  },
  {
   "cell_type": "code",
   "execution_count": null,
   "metadata": {},
   "outputs": [],
   "source": [
    "# Encoder only transformer\n",
    "\n",
    "# Dummy classifier"
   ]
  },
  {
   "cell_type": "markdown",
   "metadata": {},
   "source": [
    "## 3. Results"
   ]
  }
 ],
 "metadata": {
  "kernelspec": {
   "display_name": "case_env",
   "language": "python",
   "name": "python3"
  },
  "language_info": {
   "codemirror_mode": {
    "name": "ipython",
    "version": 3
   },
   "file_extension": ".py",
   "mimetype": "text/x-python",
   "name": "python",
   "nbconvert_exporter": "python",
   "pygments_lexer": "ipython3",
   "version": "3.10.11"
  }
 },
 "nbformat": 4,
 "nbformat_minor": 2
}
